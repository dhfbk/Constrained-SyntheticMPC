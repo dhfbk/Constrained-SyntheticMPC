{
 "cells": [
  {
   "cell_type": "code",
   "execution_count": null,
   "id": "8c35907de44e57a5",
   "metadata": {
    "collapsed": false
   },
   "outputs": [],
   "source": [
    "from analysis_function import *\n",
    "from structural_statistics import *\n",
    "from matplotlib.backends.backend_pdf import PdfPages\n"
   ]
  },
  {
   "cell_type": "code",
   "execution_count": null,
   "id": "7379102e741c65b7",
   "metadata": {
    "collapsed": false
   },
   "outputs": [],
   "source": [
    "import pickle\n",
    "final_good_file = \"final_good_file\"\n",
    "final_filtering_good_file = \"final_filtering_good_file\"\n",
    "\n",
    "#open file using pickle\n",
    "with open(final_good_file, 'rb') as file:\n",
    "    data = pickle.load(file)\n",
    "\n",
    "with open(final_filtering_good_file, 'rb') as file:\n",
    "    filtering = pickle.load(file)\n"
   ]
  },
  {
   "cell_type": "code",
   "execution_count": null,
   "id": "3dfc642aabecf45e",
   "metadata": {
    "collapsed": false
   },
   "outputs": [],
   "source": [
    "pro = ['positive']\n",
    "\n",
    "cons = ['negative']"
   ]
  },
  {
   "cell_type": "code",
   "execution_count": null,
   "id": "1c97deeb1ee388f3",
   "metadata": {
    "collapsed": false
   },
   "outputs": [],
   "source": [
    "graphs = create_collection_of_graphs(data, pro, cons)\n",
    "statistics = compute_global_statistics(graphs)\n"
   ]
  },
  {
   "cell_type": "code",
   "execution_count": null,
   "id": "c5de1fd50257b2cc",
   "metadata": {
    "collapsed": false
   },
   "outputs": [],
   "source": [
    "graphs_nodes = [[],[],[]]\n",
    "\n",
    "graphs_nodes[0] = [i for i, g in enumerate(graphs) if g.number_of_nodes() == 4]\n",
    "graphs_nodes[1] = [i for i, g in enumerate(graphs) if g.number_of_nodes() == 5]\n",
    "graphs_nodes[2] = [i for i, g in enumerate(graphs) if g.number_of_nodes() == 6]"
   ]
  },
  {
   "cell_type": "code",
   "execution_count": null,
   "id": "debdd10c85e3e799",
   "metadata": {
    "collapsed": false
   },
   "outputs": [],
   "source": [
    "desc = [\n",
    "    \"Cycles\",\n",
    "    \"Consistent Cycles\",\n",
    "    \"Average Degree\",\n",
    "    \"Average Out Degree\",\n",
    "    \"Average In Degree\",\n",
    "    \"Transitivity\"\n",
    "]\n",
    "\n"
   ]
  },
  {
   "cell_type": "code",
   "execution_count": null,
   "id": "e7d1038cb6df57d0",
   "metadata": {
    "collapsed": false
   },
   "outputs": [],
   "source": [
    "from statsmodels.distributions.empirical_distribution import ECDF\n",
    "\n",
    "for d in desc:\n",
    "    print(d)\n",
    "    metric = [x[d] for x in statistics]\n",
    "\n",
    "    #convert metric in a numpy array\n",
    "    data_continuous = np.array(metric)\n",
    "    data_continuous[np.isnan(data_continuous)] = 0\n",
    "    # Kernel Density Estimation (KDE)\n",
    "    #ecdf = ECDF(data)\n",
    "    fig, ax = plt.subplots()\n",
    "    ax.ecdf(data_continuous, color='blue', label='ECDF all', alpha=1)\n",
    "    # Plot the PDF\n",
    "    ax.set_xlim(0, 1)\n",
    "    colors = [\"green\", \"red\", \"purple\"]\n",
    "\n",
    "    for j in range(3):\n",
    "        metric_sel = [metric[i] for i in graphs_nodes[j]]\n",
    "\n",
    "        #convert metric in a numpy array\n",
    "        data_continuous = np.array(metric_sel)\n",
    "        data_continuous[np.isnan(data_continuous)] = 0\n",
    "        # Plot the PDF\n",
    "        ax.ecdf(data_continuous, color=colors[j], label=\"ECDF \" + str(j+4) + \" nodes\", linestyle='dashed', alpha=0.75, linewidth=0.75)\n",
    "\n",
    "    plt.title(\"Empirical Cumulative Density Function (ECDF)\")\n",
    "    plt.xlabel(d)\n",
    "    plt.ylabel('Density')\n",
    "    plt.legend()\n",
    "    plt.grid(alpha=0.4)\n",
    "\n",
    "    #Save the plot to a PDF file\n",
    "    svg_filename = (\"image/ecdf_\" + d + \".svg\")\n",
    "    plt.savefig(svg_filename, format='svg')\n",
    "    plt.close()  # Close the plot to release memory\n",
    "    plt.show()"
   ]
  }
 ],
 "metadata": {
  "kernelspec": {
   "display_name": "Python 3",
   "language": "python",
   "name": "python3"
  },
  "language_info": {
   "codemirror_mode": {
    "name": "ipython",
    "version": 2
   },
   "file_extension": ".py",
   "mimetype": "text/x-python",
   "name": "python",
   "nbconvert_exporter": "python",
   "pygments_lexer": "ipython2",
   "version": "2.7.6"
  }
 },
 "nbformat": 4,
 "nbformat_minor": 5
}
