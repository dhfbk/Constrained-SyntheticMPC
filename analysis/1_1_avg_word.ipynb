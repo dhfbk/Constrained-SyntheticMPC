{
 "cells": [
  {
   "cell_type": "code",
   "execution_count": null,
   "id": "initial_id",
   "metadata": {
    "collapsed": true
   },
   "outputs": [],
   "source": [
    "from analysis_function import *\n",
    "from structural_statistics import *\n",
    "\n",
    "import pickle\n",
    "import json\n",
    "\n",
    "#open file using pickle\n",
    "\n",
    "final_good_file = \"final_good_file\"\n",
    "\n",
    "with open(final_good_file, 'rb') as file:\n",
    "    data = pickle.load(file)"
   ]
  },
  {
   "cell_type": "code",
   "execution_count": null,
   "id": "9a288c4ef6bd69bd",
   "metadata": {
    "collapsed": false
   },
   "outputs": [],
   "source": [
    "import json\n",
    "mess = [] \n",
    "length = []\n",
    "\n",
    "for d in zip(data):\n",
    "    print(d)\n",
    "    item = json.loads(d[0])\n",
    "    for turn in item[\"conversation\"]:\n",
    "        mess.append(turn[\"message\"])\n",
    "        length.append(len(turn[\"message\"].split()))\n",
    "        \n"
   ]
  },
  {
   "cell_type": "code",
   "execution_count": null,
   "id": "258954a88aa6f174",
   "metadata": {
    "collapsed": false
   },
   "outputs": [],
   "source": [
    "print(sum(length)/len(length))"
   ]
  }
 ],
 "metadata": {
  "kernelspec": {
   "display_name": "Python 3",
   "language": "python",
   "name": "python3"
  },
  "language_info": {
   "codemirror_mode": {
    "name": "ipython",
    "version": 2
   },
   "file_extension": ".py",
   "mimetype": "text/x-python",
   "name": "python",
   "nbconvert_exporter": "python",
   "pygments_lexer": "ipython2",
   "version": "2.7.6"
  }
 },
 "nbformat": 4,
 "nbformat_minor": 5
}
