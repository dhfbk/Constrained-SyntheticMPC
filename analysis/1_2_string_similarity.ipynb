{
 "cells": [
  {
   "cell_type": "code",
   "execution_count": null,
   "id": "initial_id",
   "metadata": {
    "collapsed": true
   },
   "outputs": [],
   "source": [
    "from analysis_function import *\n",
    "from structural_statistics import *\n",
    "\n",
    "import pickle\n",
    "import json\n",
    "\n",
    "final_good_file = \"final_good_file\"\n",
    "final_filtering_good_file = \"final_filtering_good_file\"\n",
    "\n",
    "#open file using pickle\n",
    "with open(final_good_file, 'rb') as file:\n",
    "    data = pickle.load(file)\n",
    "\n",
    "with open(final_filtering_good_file, 'rb') as file:\n",
    "    filtering = pickle.load(file)"
   ]
  },
  {
   "cell_type": "code",
   "execution_count": null,
   "id": "d798b280db16a1bc",
   "metadata": {
    "collapsed": false
   },
   "outputs": [],
   "source": [
    "progressist = [\n",
    "    \"ban of targeted killing\",\n",
    "    \"ban of the death penalty\",\n",
    "    \"recognition of the right to abortion\",\n",
    "    \"recognition of the right to euthanasia\",\n",
    "    \"recognition of Palestinian state\",\n",
    "    \"ban of mandatory military service\",\n",
    "    \"ban of nuclear weapons\",\n",
    "    \"mandatory sex education in schools\",\n",
    "    \"guarantee of online teaching\",\n",
    "    \"fight to climate change\",\n",
    "    \"incentives for renewable energy\",\n",
    "    \"ban of facial recognition technology\",\n",
    "    \"incentives for AI research\",\n",
    "    \"mandatory vaccination for children\",\n",
    "    \"ban of animal testing\",\n",
    "    \"incentives for organ donation\",\n",
    "    \"ban of racial profiling\",\n",
    "    \"incentives for immigration and asylum\",\n",
    "    \"universal healthcare\",\n",
    "    \"legalization of marijuana\",\n",
    "    \"legalization of same-sex marriage\",\n",
    "    \"legalization of surrogate motherhood\",\n",
    "    \"programme for the reduction of the gender pay gap\",\n",
    "    \"limitation to gun ownership\",\n",
    "    \"holocaust remembrance mandatory in schools\",\n",
    "    \"ban of zoos\",\n",
    "    \"protection of endangered species\",\n",
    "    \"organization of pride parades\",\n",
    "    \"allowance of tattoos\",\n",
    "    \"cohabitation of couples before marriage\",\n",
    "    \"ban of arranged marriages\",\n",
    "    \"US staying in NATO\",\n",
    "    \"Germany staying in EU\",\n",
    "    \"mandatory acceptance of mobile payments\",\n",
    "    \"lowering university tuition fees\",\n",
    "    \"mandatory cameras on police officers\",\n",
    "    \"freedom of blasphemy\",\n",
    "    \"legalization of adoption by same-sex couples\"]\n",
    "\n",
    "conservatist = [\n",
    "    \"allowance of targeted killing\",\n",
    "    \"allowance of the death penalty\",\n",
    "    \"ban of abortion\",\n",
    "    \"ban of euthanasia\",\n",
    "    \"non-recognition of Palestinian state\",\n",
    "    \"mandatory military service\",\n",
    "    \"support for nuclear weapons\",\n",
    "    \"optional sex education in schools\",\n",
    "    \"mandatory in-person teaching\",\n",
    "    \"opposition to regulations for action on climate change\",\n",
    "    \"incentives for energy from fossil fuels\",\n",
    "    \"incentives for facial recognition technology\",\n",
    "    \"opposition to AI research incentives\",\n",
    "    \"optional vaccination for children\",\n",
    "    \"allowance of animal testing\",\n",
    "    \"opposition to organ donation incentives\",\n",
    "    \"allowance of racial profiling\",\n",
    "    \"support to immigration contrast and stricter asylum rules\",\n",
    "    \"support to private healthcare\",\n",
    "    \"ban of marijuana\",\n",
    "    \"ban of same-sex marriage\",\n",
    "    \"ban of surrogate motherhood\",\n",
    "    \"increase of the gender pay gap in favor of men\",\n",
    "    \"right to unrestricted gun ownership\",\n",
    "    \"optional holocaust remembrance in schools\",\n",
    "    \"support for zoos\",\n",
    "    \"opposition to endangered species protection\",\n",
    "    \"ban of pride parades\",\n",
    "    \"ban of tattoos\",\n",
    "    \"mandatory marriage before cohabitation\",\n",
    "    \"right to arranged marriages\",\n",
    "    \"US leaving NATO\",\n",
    "    \"Germany leaving the EU\",\n",
    "    \"ban of mobile payments\",\n",
    "    \"increase in university tuition fees\",\n",
    "    \"freedom of police officers to refuse cameras\",\n",
    "    \"punishment for blasphemy\",\n",
    "    \"ban of adoption by same-sex couples\"]\n",
    "\n",
    "topics = progressist + conservatist"
   ]
  },
  {
   "cell_type": "code",
   "execution_count": null,
   "id": "9a288c4ef6bd69bd",
   "metadata": {
    "collapsed": false
   },
   "outputs": [],
   "source": [
    "import json\n",
    "clusters_mess = [[]] * len(topics)\n",
    "clusters_conv = [[]] * len(topics)\n",
    "\n",
    "for d, t in zip(data, filtering):\n",
    "    item = json.loads(d)\n",
    "\n",
    "    conv = \"\"\n",
    "    mess = []\n",
    "\n",
    "    for turn in item[\"conversation\"]:\n",
    "        conv = conv +  turn[\"message\"] + \"\\n\"\n",
    "        mess.append(turn[\"message\"])\n",
    "\n",
    "    idx = topics.index(t[\"topic\"])\n",
    "\n",
    "    clusters_conv[idx] = clusters_conv[idx] + [conv]\n",
    "    clusters_mess[idx] = clusters_mess[idx] + [mess]"
   ]
  },
  {
   "cell_type": "markdown",
   "id": "489fc6ef9bc048f1",
   "metadata": {
    "collapsed": false
   },
   "source": [
    "# thefuzz"
   ]
  },
  {
   "cell_type": "code",
   "execution_count": null,
   "id": "9d295611a98da0a6",
   "metadata": {
    "collapsed": false,
    "is_executing": true
   },
   "outputs": [],
   "source": [
    "from thefuzz import fuzz, process\n",
    "\n",
    "fuzzy = [[]] * len(topics)\n",
    "for idx, cluster in enumerate(clusters_mess):\n",
    "    print(idx)\n",
    "    for i in range(len(cluster)):\n",
    "        for j in range(i + 1, len(cluster)):\n",
    "            acc = []\n",
    "            for l in range(len(cluster[i])):\n",
    "                for m in range(len(cluster[j])):\n",
    "                    acc = acc + [fuzz.ratio(cluster[i][l], cluster[j][m])]\n",
    "            \n",
    "            #take top 5\n",
    "            acc = sorted(acc, reverse=True)[:5]\n",
    "            fuzzy[idx] = fuzzy[idx] + [(i, j, sum(acc) / len(acc))]"
   ]
  },
  {
   "cell_type": "code",
   "execution_count": null,
   "id": "fc12407d48c161b6",
   "metadata": {
    "collapsed": false
   },
   "outputs": [],
   "source": [
    "res_cluster = []\n",
    "for cluster in fuzzy:\n",
    "    res = []\n",
    "    for tup in cluster:\n",
    "        res.append(tup[2])\n",
    "\n",
    "    res_cluster.append(sum(res)/len(res))\n",
    "\n",
    "print(sum(res_cluster)/len(res_cluster))"
   ]
  }
 ],
 "metadata": {
  "kernelspec": {
   "display_name": "Python 3",
   "language": "python",
   "name": "python3"
  },
  "language_info": {
   "codemirror_mode": {
    "name": "ipython",
    "version": 2
   },
   "file_extension": ".py",
   "mimetype": "text/x-python",
   "name": "python",
   "nbconvert_exporter": "python",
   "pygments_lexer": "ipython2",
   "version": "2.7.6"
  }
 },
 "nbformat": 4,
 "nbformat_minor": 5
}
